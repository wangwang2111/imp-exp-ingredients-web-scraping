{
 "cells": [
  {
   "cell_type": "code",
   "execution_count": 2,
   "metadata": {},
   "outputs": [],
   "source": [
    "import os\n",
    "import importlib\n",
    "from datetime import date, timedelta\n",
    "from selenium import webdriver\n",
    "from selenium.webdriver.common.by import By\n",
    "from selenium.webdriver.chrome.options import Options\n",
    "import functions as func  # Assuming func is a custom module in your project"
   ]
  },
  {
   "cell_type": "code",
   "execution_count": 3,
   "metadata": {},
   "outputs": [],
   "source": [
    "## INPUTS:\n",
    "DOWNLOADED_FOLDER = os.path.abspath(\"/mnt/c/Users/ndqua/OneDrive - National Economics University/Downloads/cac_chat/huong_thit/\")\n",
    "MAX_ATTEMPTS = 10\n",
    "START_DATE = date(2024, 7, 1)\n",
    "END_DATE = date(2024, 7, 31)\n",
    "\n",
    "search_option = \"importer\"\n",
    "# \"HScode\"\n",
    "# exporter\n",
    "# importer\n",
    "\n",
    "EXPORT_DATA = False\n",
    "UNDOWNLOADED_CHATS = [\"CÔNG TY CỔ PHẦN CÔNG NGHỆ PHẨM BA ĐÌNH\",\n",
    "                      \"CÔNG TY CỔ PHẦN HÓA CHẤT THỰC PHẨM CHÂU Á\",\n",
    "    \"CÔNG TY TNHH PHỤ GIA THỰC PHẨM VIỆT NAM\",\n",
    "    \"CÔNG TY TNHH HÓA CHẤT THỰC PHẨM HƯƠNG VỊ MỚI\",]\n",
    "DOWNLOADED_CHATS = []"
   ]
  },
  {
   "cell_type": "code",
   "execution_count": 4,
   "metadata": {},
   "outputs": [
    {
     "name": "stdout",
     "output_type": "stream",
     "text": [
      "longdv@bfchem.com.vn, logged in\n",
      "total number of transactions:  54\n",
      "the remaining number of trans:  54\n",
      "THE FINAL NUM OF TRANS IS: 54 for 2024-07-01 2024-07-31\n",
      "Recently downloaded file: /mnt/c/Users/ndqua/OneDrive - National Economics University/Downloads/cac_chat/huong_thit/52.xls\n",
      "rename: /mnt/c/Users/ndqua/OneDrive - National Economics University/Downloads/cac_chat/huong_thit/49. Công Ty Cổ Phần Công Nghệ Phẩm Ba Đình 2024-07-01 2024-07-31 (1).xls\n",
      "total number of transactions:  19\n",
      "the remaining number of trans:  19\n",
      "THE FINAL NUM OF TRANS IS: 19 for 2024-07-01 2024-07-31\n",
      "Recently downloaded file: /mnt/c/Users/ndqua/OneDrive - National Economics University/Downloads/cac_chat/huong_thit/从【2024-07-01】至【2024-07-31】期间的VIETNAM(进口)贸易数据下载2024_08_31_07_57_19.xls\n",
      "rename: /mnt/c/Users/ndqua/OneDrive - National Economics University/Downloads/cac_chat/huong_thit/50. Công Ty Cổ Phần Hóa Chất Thực Phẩm Châu Á 2024-07-01 2024-07-31 (1).xls\n",
      "total number of transactions:  20\n",
      "the remaining number of trans:  20\n",
      "THE FINAL NUM OF TRANS IS: 20 for 2024-07-01 2024-07-31\n",
      "Recently downloaded file: /mnt/c/Users/ndqua/OneDrive - National Economics University/Downloads/cac_chat/huong_thit/从【2024-07-01】至【2024-07-31】期间的VIETNAM(进口)贸易数据下载2024_08_31_07_57_40.xls\n",
      "rename: /mnt/c/Users/ndqua/OneDrive - National Economics University/Downloads/cac_chat/huong_thit/51. Công Ty Tnhh Phụ Gia Thực Phẩm Việt Nam 2024-07-01 2024-07-31 (1).xls\n",
      "total number of transactions:  7\n",
      "the remaining number of trans:  7\n",
      "THE FINAL NUM OF TRANS IS: 7 for 2024-07-01 2024-07-31\n",
      "Recently downloaded file: /mnt/c/Users/ndqua/OneDrive - National Economics University/Downloads/cac_chat/huong_thit/从【2024-07-01】至【2024-07-31】期间的VIETNAM(进口)贸易数据下载2024_08_31_07_58_02.xls\n",
      "rename: /mnt/c/Users/ndqua/OneDrive - National Economics University/Downloads/cac_chat/huong_thit/52. Công Ty Tnhh Hóa Chất Thực Phẩm Hương Vị Mới 2024-07-01 2024-07-31.xls\n"
     ]
    }
   ],
   "source": [
    "CURRENT_START_DATE = START_DATE\n",
    "def main():\n",
    "    importlib.reload(func)\n",
    "    undownloaded_chats = UNDOWNLOADED_CHATS\n",
    "    downloaded_chats = DOWNLOADED_CHATS\n",
    "    export_data = EXPORT_DATA\n",
    "    \n",
    "    ## Select by ingre name\n",
    "    download_directory = DOWNLOADED_FOLDER\n",
    "    options = Options()\n",
    "    # options.add_argument(\"--headless=new\")  # for Chrome >= 109\n",
    "    \n",
    "    prefs = {\"download.default_directory\": download_directory}\n",
    "    options.add_experimental_option(\"prefs\", prefs)\n",
    "    \n",
    "    ## Import or Export\n",
    "    if export_data == True:\n",
    "        website = \"https://vip.lsmaps.com/Trade/VNMExp\"\n",
    "    else:\n",
    "        website = \"https://vip.lsmaps.com/Trade/VNMImp\"\n",
    "\n",
    "    for USERNAME, PASSWORD in zip(func.USERNAMES, func.PASSWORDS):\n",
    "        driver = webdriver.Chrome(options=options)\n",
    "        driver.get(website)\n",
    "        driver.maximize_window()\n",
    "        driver.find_element(By.ID, \"tboxAccount\").send_keys(USERNAME)\n",
    "        driver.find_element(By.ID, \"tboxPassword\").send_keys(PASSWORD)\n",
    "        try:\n",
    "            driver.find_element(By.ID, \"btnLogin\").click()\n",
    "            print(f\"{USERNAME}, logged in\")\n",
    "        except Exception:\n",
    "            print(f\"{USERNAME}, not logged in\")\n",
    "            driver.quit()\n",
    "            continue\n",
    "        driver.implicitly_wait(10)\n",
    "        attempts = 0\n",
    "        max_attempts = MAX_ATTEMPTS\n",
    "        for chat in undownloaded_chats:\n",
    "            try:\n",
    "                start_date_input = driver.find_element(By.ID, \"tboxSatrtDate\")\n",
    "            except:\n",
    "                func.solve_captcha(driver)\n",
    "\n",
    "            if search_option.lower() == \"hscode\":\n",
    "                product_input = driver.find_element(By.ID, \"tboxHS\")\n",
    "            elif search_option.lower() == \"exporter\":\n",
    "                product_input = driver.find_element(By.ID, \"tboxExporter\")\n",
    "            elif search_option.lower() == \"importer\":\n",
    "                product_input = driver.find_element(By.ID, \"tboxImporter\")\n",
    "            else:\n",
    "                product_input = driver.find_element(By.ID, \"tboxProduct\")\n",
    "\n",
    "            start_date_input = driver.find_element(By.ID, \"tboxSatrtDate\")\n",
    "            end_date_input = driver.find_element(By.ID, \"tboxEndDate\")\n",
    "\n",
    "            end_date = END_DATE\n",
    "            global CURRENT_START_DATE\n",
    "            if CURRENT_START_DATE != START_DATE:\n",
    "                start_date = CURRENT_START_DATE\n",
    "            else:\n",
    "                start_date = START_DATE\n",
    "            \n",
    "            \n",
    "            if attempts == max_attempts:\n",
    "                break\n",
    "            try:\n",
    "                func.take_initial_end_date(start_date, end_date)\n",
    "                if func.process_chat(driver, chat, start_date, end_date, download_directory, product_input, start_date_input, end_date_input):\n",
    "                    downloaded_chats.append(chat)\n",
    "            except Exception as e:\n",
    "                CURRENT_START_DATE = func.get_current_start_date()\n",
    "                print(e)\n",
    "                print(f'OUT OF DOWNLOADING OPTION! {USERNAME}')\n",
    "                break\n",
    "\n",
    "        undownloaded_chats = list(set(undownloaded_chats) - set(downloaded_chats))\n",
    "        if not undownloaded_chats:\n",
    "            driver.quit()\n",
    "            break\n",
    "        driver.quit()\n",
    "\n",
    "    func.write_to_file(downloaded_chats, \"downloaded/downloaded_chats.json\")\n",
    "    func.write_to_file(undownloaded_chats, \"undownloaded/undownloaded_chats.json\")\n",
    "\n",
    "if __name__ == \"__main__\":\n",
    "    main()\n"
   ]
  },
  {
   "cell_type": "code",
   "execution_count": 5,
   "metadata": {},
   "outputs": [
    {
     "name": "stdout",
     "output_type": "stream",
     "text": [
      "Converted \"/mnt/c/Users/ndqua/OneDrive - National Economics University/Downloads/cac_chat/huong_thit/49. Công Ty Tnhh Phụ Gia Thực Phẩm Việt Nam 1996-12-11 2024-06-30.xls\" to \"/mnt/c/Users/ndqua/OneDrive - National Economics University/Downloads/cac_chat/huong_thit/49. Công Ty Tnhh Phụ Gia Thực Phẩm Việt Nam 1996-12-11 2024-06-30.xlsx\"\n",
      "Converted \"/mnt/c/Users/ndqua/OneDrive - National Economics University/Downloads/cac_chat/huong_thit/50. Công Ty Tnhh Hóa Chất Thực Phẩm Hương Vị Mới 1996-12-11 2024-06-30.xls\" to \"/mnt/c/Users/ndqua/OneDrive - National Economics University/Downloads/cac_chat/huong_thit/50. Công Ty Tnhh Hóa Chất Thực Phẩm Hương Vị Mới 1996-12-11 2024-06-30.xlsx\"\n"
     ]
    },
    {
     "data": {
      "text/plain": [
       "True"
      ]
     },
     "execution_count": 5,
     "metadata": {},
     "output_type": "execute_result"
    }
   ],
   "source": [
    "# convert xls to xlsx files\n",
    "download_directory = DOWNLOADED_FOLDER\n",
    "func.convert_x2x(download_directory+'/')"
   ]
  },
  {
   "cell_type": "code",
   "execution_count": null,
   "metadata": {},
   "outputs": [],
   "source": []
  }
 ],
 "metadata": {
  "kernelspec": {
   "display_name": "py3-TF2",
   "language": "python",
   "name": "python3"
  },
  "language_info": {
   "codemirror_mode": {
    "name": "ipython",
    "version": 3
   },
   "file_extension": ".py",
   "mimetype": "text/x-python",
   "name": "python",
   "nbconvert_exporter": "python",
   "pygments_lexer": "ipython3",
   "version": "3.10.14"
  }
 },
 "nbformat": 4,
 "nbformat_minor": 2
}
